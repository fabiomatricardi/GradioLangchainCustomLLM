{
  "nbformat": 4,
  "nbformat_minor": 0,
  "metadata": {
    "colab": {
      "provenance": [],
      "authorship_tag": "ABX9TyODTGbQDuw2QO7zvvaTaxX+",
      "include_colab_link": true
    },
    "kernelspec": {
      "name": "python3",
      "display_name": "Python 3"
    },
    "language_info": {
      "name": "python"
    }
  },
  "cells": [
    {
      "cell_type": "markdown",
      "metadata": {
        "id": "view-in-github",
        "colab_type": "text"
      },
      "source": [
        "<a href=\"https://colab.research.google.com/github/fabiomatricardi/GradioLangchainCustomLLM/blob/main/Gradio%2BLangChain%3DFreeAI_Agents.ipynb\" target=\"_parent\"><img src=\"https://colab.research.google.com/assets/colab-badge.svg\" alt=\"Open In Colab\"/></a>"
      ]
    },
    {
      "cell_type": "code",
      "execution_count": 1,
      "metadata": {
        "colab": {
          "base_uri": "https://localhost:8080/"
        },
        "id": "_mXrrYRj0VW8",
        "outputId": "b99c77c8-c2ef-4699-db40-fb989ea2ce3e"
      },
      "outputs": [
        {
          "output_type": "stream",
          "name": "stdout",
          "text": [
            "\u001b[2K     \u001b[90m━━━━━━━━━━━━━━━━━━━━━━━━━━━━━━━━━━━━━━━━\u001b[0m \u001b[32m401.2/401.2 kB\u001b[0m \u001b[31m4.0 MB/s\u001b[0m eta \u001b[36m0:00:00\u001b[0m\n",
            "\u001b[2K     \u001b[90m━━━━━━━━━━━━━━━━━━━━━━━━━━━━━━━━━━━━━━━━\u001b[0m \u001b[32m1.0/1.0 MB\u001b[0m \u001b[31m20.6 MB/s\u001b[0m eta \u001b[36m0:00:00\u001b[0m\n",
            "\u001b[2K     \u001b[90m━━━━━━━━━━━━━━━━━━━━━━━━━━━━━━━━━━━━━━━━\u001b[0m \u001b[32m315.8/315.8 kB\u001b[0m \u001b[31m27.4 MB/s\u001b[0m eta \u001b[36m0:00:00\u001b[0m\n",
            "\u001b[2K     \u001b[90m━━━━━━━━━━━━━━━━━━━━━━━━━━━━━━━━━━━━━━━━\u001b[0m \u001b[32m2.0/2.0 MB\u001b[0m \u001b[31m36.5 MB/s\u001b[0m eta \u001b[36m0:00:00\u001b[0m\n",
            "\u001b[2K     \u001b[90m━━━━━━━━━━━━━━━━━━━━━━━━━━━━━━━━━━━━━━━━\u001b[0m \u001b[32m302.9/302.9 kB\u001b[0m \u001b[31m24.1 MB/s\u001b[0m eta \u001b[36m0:00:00\u001b[0m\n",
            "\u001b[2K     \u001b[90m━━━━━━━━━━━━━━━━━━━━━━━━━━━━━━━━━━━━━━━━\u001b[0m \u001b[32m121.0/121.0 kB\u001b[0m \u001b[31m12.9 MB/s\u001b[0m eta \u001b[36m0:00:00\u001b[0m\n",
            "\u001b[2K     \u001b[90m━━━━━━━━━━━━━━━━━━━━━━━━━━━━━━━━━━━━━━━━\u001b[0m \u001b[32m49.3/49.3 kB\u001b[0m \u001b[31m5.4 MB/s\u001b[0m eta \u001b[36m0:00:00\u001b[0m\n",
            "\u001b[2K     \u001b[90m━━━━━━━━━━━━━━━━━━━━━━━━━━━━━━━━━━━━━━━━\u001b[0m \u001b[32m75.6/75.6 kB\u001b[0m \u001b[31m8.3 MB/s\u001b[0m eta \u001b[36m0:00:00\u001b[0m\n",
            "\u001b[2K     \u001b[90m━━━━━━━━━━━━━━━━━━━━━━━━━━━━━━━━━━━━━━━━\u001b[0m \u001b[32m129.9/129.9 kB\u001b[0m \u001b[31m10.8 MB/s\u001b[0m eta \u001b[36m0:00:00\u001b[0m\n",
            "\u001b[2K     \u001b[90m━━━━━━━━━━━━━━━━━━━━━━━━━━━━━━━━━━━━━━━━\u001b[0m \u001b[32m53.0/53.0 kB\u001b[0m \u001b[31m4.3 MB/s\u001b[0m eta \u001b[36m0:00:00\u001b[0m\n",
            "\u001b[2K     \u001b[90m━━━━━━━━━━━━━━━━━━━━━━━━━━━━━━━━━━━━━━━━\u001b[0m \u001b[32m142.5/142.5 kB\u001b[0m \u001b[31m13.8 MB/s\u001b[0m eta \u001b[36m0:00:00\u001b[0m\n",
            "\u001b[2K     \u001b[90m━━━━━━━━━━━━━━━━━━━━━━━━━━━━━━━━━━━━━━━━\u001b[0m \u001b[32m77.9/77.9 kB\u001b[0m \u001b[31m8.3 MB/s\u001b[0m eta \u001b[36m0:00:00\u001b[0m\n",
            "\u001b[2K     \u001b[90m━━━━━━━━━━━━━━━━━━━━━━━━━━━━━━━━━━━━━━━━\u001b[0m \u001b[32m58.3/58.3 kB\u001b[0m \u001b[31m7.2 MB/s\u001b[0m eta \u001b[36m0:00:00\u001b[0m\n",
            "\u001b[?25h"
          ]
        }
      ],
      "source": [
        "%pip install --upgrade --quiet  gradio_tools huggingface_hub langchain"
      ]
    },
    {
      "cell_type": "code",
      "source": [
        "from gradio_client import Client\n",
        "\n",
        "yourHFtoken = \"hf_xxxxxxxxxxxxxxxxxxx\" #here your HF token\n",
        "client = Client(\"ysharma/Chat_with_Meta_llama3_8b\", hf_token=yourHFtoken)\n",
        "result = client.predict(\n",
        "\t\tmessage=\"Why you should learn AI?\",\n",
        "\t\trequest=0.95,\n",
        "\t\tparam_3=512,\n",
        "\t\tapi_name=\"/chat\"\n",
        ")\n",
        "print(result)"
      ],
      "metadata": {
        "colab": {
          "base_uri": "https://localhost:8080/"
        },
        "id": "Wz5K9lwC3NCP",
        "outputId": "94096db2-6020-4cdc-9ff1-6f7ae7f20c75"
      },
      "execution_count": 2,
      "outputs": [
        {
          "output_type": "stream",
          "name": "stdout",
          "text": [
            "Loaded as API: https://ysharma-chat-with-meta-llama3-8b.hf.space ✔\n",
            "assistant\n",
            "\n",
            "Learning AI can be incredibly valuable in today's rapidly evolving digital landscape. Here are some compelling reasons why you should consider learning AI:\n",
            "\n",
            "1. **Job Opportunities**: The AI industry is growing rapidly, and there is a high demand for skilled AI professionals. According to Glassdoor, the average salary for an AI engineer is around $141,000 per year. Learning AI can open up new job opportunities and increase your earning potential.\n",
            "2. **Improve Problem-Solving Skills**: AI involves solving complex problems using data, algorithms, and machine learning. Developing AI skills can improve your problem-solving abilities and enhance your critical thinking skills.\n",
            "3. **Enhance Career Prospects**: As AI becomes increasingly integrated into various industries, companies are looking for professionals who can work with AI systems. Learning AI can enhance your career prospects and make you a more attractive candidate for job openings.\n",
            "4. **Stay Ahead of the Curve**: AI is transforming industries at an unprecedented pace. Learning AI can help you stay ahead of the curve and adapt to the changing job market.\n",
            "5. **Develop Transferable Skills**: AI skills are transferable across various industries, including healthcare, finance, marketing, and more. Developing AI skills can make you a valuable asset to any organization.\n",
            "6. **Improved Data Analysis**: AI involves working with large datasets and analyzing complex data patterns. Learning AI can improve your data analysis skills and enhance your ability to make informed decisions.\n",
            "7. **Enhance Creativity**: AI can assist humans in creative tasks, such as generating art, music, and writing. Learning AI can enhance your creative skills and open up new opportunities for artistic expression.\n",
            "8. **Faster Processing and Analysis**: AI can process and analyze large datasets much faster than humans. Learning AI can help you develop skills in automated processing and analysis.\n",
            "9. **Improved Decision-Making**: AI can help humans make better decisions by analyzing large datasets and identifying patterns. Learning AI can improve your decision-making skills and help you make more informed choices.\n",
            "10. **Join the AI Community**: The AI community is vibrant and active, with many online resources, conferences, and meetups. Learning AI can connect you with like-minded professionals and open up new opportunities for collaboration and networking.\n",
            "\n",
            "In summary, learning AI can enhance your career prospects, improve your problem-solving skills, and make you a more attractive candidate for job openings. Additionally, AI skills are transferable across various industries, and can improve your data analysis, creativity, and decision-making abilities.\n"
          ]
        }
      ]
    },
    {
      "cell_type": "markdown",
      "source": [
        "### Create the New Class for a Custom LLM in Langchain"
      ],
      "metadata": {
        "id": "RwjNoTyF3yWS"
      }
    },
    {
      "cell_type": "code",
      "source": [
        "from typing import Any, Dict, Iterator, List, Mapping, Optional\n",
        "from langchain.callbacks.manager import CallbackManagerForLLMRun\n",
        "from langchain_core.language_models.llms import LLM\n",
        "from langchain_core.outputs import GenerationChunk\n",
        "from langchain_core.output_parsers import StrOutputParser\n",
        "from langchain_core.prompts import ChatPromptTemplate\n",
        "\n",
        "class GradioClientChat(LLM):\n",
        "    \"\"\"\n",
        "    Custom LLM class based on the Gradio API call.\n",
        "    \"\"\"\n",
        "    from gradio_client import Client\n",
        "    chatbot: Any = None\n",
        "\n",
        "    def __init__(self, *args, **kwargs):\n",
        "        super().__init__(*args, **kwargs)\n",
        "\n",
        "        # Instantiating the ChatBot class\n",
        "        # add here you hf_token, in case as shown here below\n",
        "        #yourHFtoken = \"hf_xxxxxxxxxxxxxxxxx\" #here your HF token\n",
        "        #self.chatbot =(\"ysharma/Chat_with_Meta_llama3_8b\", hf_token=yourHFtoken)\n",
        "        self.chatbot = Client(\"ysharma/Chat_with_Meta_llama3_8b\")\n",
        "\n",
        "    @property\n",
        "    def _llm_type(self) -> str:\n",
        "        return \"Gradio API client Meta_llama3_8b\"\n",
        "\n",
        "    def _call(\n",
        "            self,\n",
        "            prompt: str,\n",
        "            stop: Optional[List[str]] = None,\n",
        "            run_manager: Optional[CallbackManagerForLLMRun] = None,\n",
        "            chatbot=None,\n",
        "            request: float = 0.95,\n",
        "            param: float = 512,\n",
        "    ) -> str:\n",
        "        \"\"\"\n",
        "        Make an API call to the Gradio API client Meta_llama3_8b using the specified prompt and return the response.\n",
        "        \"\"\"\n",
        "        if chatbot is None:\n",
        "            chatbot = self.chatbot\n",
        "\n",
        "        if stop is not None:\n",
        "            raise ValueError(\"stop kwargs are not permitted.\")\n",
        "\n",
        "        # Return the response from the API\n",
        "        result = chatbot.predict(   #.submit for streaming effect / .predict for normal output\n",
        "            \t\tmessage=prompt,\n",
        "                request=request,\n",
        "                param_3=param,\n",
        "                api_name=\"/chat\"\n",
        "        )\n",
        "        return str(result)\n",
        "\n",
        "    def _stream(\n",
        "        self,\n",
        "        prompt: str,\n",
        "        stop: Optional[List[str]] = None,\n",
        "        run_manager: Optional[CallbackManagerForLLMRun] = None,\n",
        "        chatbot=None,\n",
        "        request: float = 0.95,\n",
        "        param: float = 512,\n",
        "        **kwargs: Any,\n",
        "    ) -> Iterator[GenerationChunk]:\n",
        "        \"\"\"Stream the LLM on the given prompt.\n",
        "\n",
        "        This method should be overridden by subclasses that support streaming.\n",
        "\n",
        "        If not implemented, the default behavior of calls to stream will be to\n",
        "        fallback to the non-streaming version of the model and return\n",
        "        the output as a single chunk.\n",
        "\n",
        "        Args:\n",
        "            prompt: The prompt to generate from.\n",
        "            stop: Stop words to use when generating. Model output is cut off at the\n",
        "                first occurrence of any of these substrings.\n",
        "            run_manager: Callback manager for the run.\n",
        "            **kwargs: Arbitrary additional keyword arguments. These are usually passed\n",
        "                to the model provider API call.\n",
        "\n",
        "        Returns:\n",
        "            An iterator of GenerationChunks.\n",
        "        \"\"\"\n",
        "        if chatbot is None:\n",
        "            chatbot = self.chatbot\n",
        "\n",
        "        if stop is not None:\n",
        "            raise ValueError(\"stop kwargs are not permitted.\")\n",
        "\n",
        "        # Return the response from the API\n",
        "        for char in chatbot.submit(   #.submit for streaming effect / .predict for normal output\n",
        "            \t\tmessage=prompt,\n",
        "                request=request,\n",
        "                param_3=param,\n",
        "                api_name=\"/chat\"\n",
        "                ):\n",
        "            chunk = GenerationChunk(text=char)\n",
        "            if run_manager:\n",
        "                run_manager.on_llm_new_token(chunk.text, chunk=chunk)\n",
        "\n",
        "            yield chunk"
      ],
      "metadata": {
        "id": "qY2KlYC43M_s"
      },
      "execution_count": 3,
      "outputs": []
    },
    {
      "cell_type": "markdown",
      "source": [
        "> instantiate the Custom Langchain LLM"
      ],
      "metadata": {
        "id": "VYJGsKAC4Qxo"
      }
    },
    {
      "cell_type": "code",
      "source": [
        "llm = GradioClientChat()"
      ],
      "metadata": {
        "colab": {
          "base_uri": "https://localhost:8080/"
        },
        "id": "r8Vz8uzF3M9R",
        "outputId": "e27f12ca-98a5-46b9-8448-1dfd1882e4c2"
      },
      "execution_count": 4,
      "outputs": [
        {
          "output_type": "stream",
          "name": "stderr",
          "text": [
            "/usr/local/lib/python3.10/dist-packages/huggingface_hub/utils/_token.py:89: UserWarning: \n",
            "The secret `HF_TOKEN` does not exist in your Colab secrets.\n",
            "To authenticate with the Hugging Face Hub, create a token in your settings tab (https://huggingface.co/settings/tokens), set it as secret in your Google Colab and restart your session.\n",
            "You will be able to reuse this secret in all of your notebooks.\n",
            "Please note that authentication is recommended but still optional to access public models or datasets.\n",
            "  warnings.warn(\n"
          ]
        },
        {
          "output_type": "stream",
          "name": "stdout",
          "text": [
            "Loaded as API: https://ysharma-chat-with-meta-llama3-8b.hf.space ✔\n"
          ]
        }
      ]
    },
    {
      "cell_type": "markdown",
      "source": [
        "> run wihtout streaming"
      ],
      "metadata": {
        "id": "3aT_6ITp4RP2"
      }
    },
    {
      "cell_type": "code",
      "source": [
        "result = llm.invoke(\"what is artificial Intelligence?\")  #[10:]   to remove the assitant from the output\n",
        "print(result)"
      ],
      "metadata": {
        "colab": {
          "base_uri": "https://localhost:8080/"
        },
        "id": "W1DIvOS63M6v",
        "outputId": "17714489-c1f8-4828-b3d5-49dff05818c0"
      },
      "execution_count": 5,
      "outputs": [
        {
          "output_type": "stream",
          "name": "stdout",
          "text": [
            "assistant\n",
            "\n",
            "Artificial Intelligence (AI) refers to the development of computer systems that can perform tasks that typically require human intelligence, such as:\n",
            "\n",
            "1. **Learning**: AI systems can learn from data, adapt to new situations, and improve their performance over time.\n",
            "2. **Reasoning**: AI systems can make decisions, solve problems, and draw conclusions based on data and rules.\n",
            "3. **Perception**: AI systems can interpret and understand data from sensors, images, and audio.\n",
            "4. **Problem-solving**: AI systems can identify and solve complex problems, often through trial and error.\n",
            "\n",
            "AI is a broad field that encompasses many subfields, including:\n",
            "\n",
            "1. **Machine Learning** (ML): A type of AI that enables systems to learn from data and improve their performance over time.\n",
            "2. **Natural Language Processing** (NLP): A type of AI that enables computers to understand, interpret, and generate human language.\n",
            "3. **Computer Vision**: A type of AI that enables computers to interpret and understand visual data from images and videos.\n",
            "4. **Robotics**: A type of AI that enables robots to perceive their environment, move, and interact with objects.\n",
            "\n",
            "There are many types of AI, including:\n",
            "\n",
            "1. **Narrow or Weak AI**: Designed to perform a specific task, such as playing chess or recognizing faces.\n",
            "2. **General or Strong AI**: Designed to perform any intellectual task that a human can, such as understanding language or making decisions.\n",
            "3. **Superintelligence**: AI that is significantly more intelligent than the best human minds.\n",
            "\n",
            "AI is used in a wide range of applications, including:\n",
            "\n",
            "1. **Healthcare**: AI-powered diagnosis, treatment planning, and patient monitoring.\n",
            "2. **Finance**: AI-powered trading, risk assessment, and customer service.\n",
            "3. **Transportation**: AI-powered autonomous vehicles, traffic management, and logistics.\n",
            "4. **Education**: AI-powered adaptive learning, personalized instruction, and student assessment.\n",
            "5. **Entertainment**: AI-powered games, virtual assistants, and personalized recommendations.\n",
            "\n",
            "Overall, AI has the potential to transform many aspects of our lives, from how we work and communicate to how we learn and entertain ourselves.\n"
          ]
        }
      ]
    },
    {
      "cell_type": "markdown",
      "source": [
        "#### change few parameters for test\n",
        "- temperature = 0.45\n",
        "- max new tokens 600\n",
        "- remove the first 10 chars"
      ],
      "metadata": {
        "id": "sZaNtGiA47pL"
      }
    },
    {
      "cell_type": "code",
      "source": [
        "result = llm.invoke(\"what are the differences between artificial Intelligence and machine learning?\", request = 0.45, param = 600)[10:]  # to remove the assitant from the output\n",
        "print(result)"
      ],
      "metadata": {
        "colab": {
          "base_uri": "https://localhost:8080/"
        },
        "id": "AQvtDT7Q5FGY",
        "outputId": "66cb03b3-aa6c-41bf-cd23-373416fd761f"
      },
      "execution_count": 7,
      "outputs": [
        {
          "output_type": "stream",
          "name": "stdout",
          "text": [
            "\n",
            "Artificial Intelligence (AI) and Machine Learning (ML) are often used interchangeably, but they are not exactly the same thing. Here's a breakdown of the differences:\n",
            "\n",
            "**Artificial Intelligence (AI)**\n",
            "\n",
            "Artificial Intelligence refers to the broader field of research and development aimed at creating machines that can perform tasks that typically require human intelligence, such as:\n",
            "\n",
            "1. **Reasoning**: AI systems can reason and make decisions based on data and rules.\n",
            "2. **Problem-solving**: AI systems can solve complex problems, often through trial and error.\n",
            "3. **Perception**: AI systems can perceive and understand data from sensors, images, and audio.\n",
            "4. **Learning**: AI systems can learn from data and adapt to new situations.\n",
            "\n",
            "AI is a multidisciplinary field that encompasses many subfields, including:\n",
            "\n",
            "1. **Natural Language Processing** (NLP)\n",
            "2. **Computer Vision**\n",
            "3. **Robotics**\n",
            "4. **Expert Systems**\n",
            "\n",
            "**Machine Learning (ML)**\n",
            "\n",
            "Machine Learning is a subset of Artificial Intelligence that focuses on developing algorithms and statistical models that enable machines to learn from data, without being explicitly programmed. ML is a type of AI that allows systems to:\n",
            "\n",
            "1. **Automatically improve**: ML algorithms can improve their performance over time by learning from data.\n",
            "2. **Make predictions**: ML algorithms can make predictions or classify new data based on patterns learned from training data.\n",
            "3. **Identify patterns**: ML algorithms can identify patterns and relationships in data that may not be immediately apparent to humans.\n",
            "\n",
            "ML is often used in applications such as:\n",
            "\n",
            "1. **Image recognition**\n",
            "2. **Speech recognition**\n",
            "3. **Recommendation systems**\n",
            "4. **Predictive maintenance**\n",
            "\n",
            "Key differences:\n",
            "\n",
            "1. **Scope**: AI is a broader field that encompasses many subfields, while ML is a specific subset of AI focused on developing algorithms that enable machines to learn from data.\n",
            "2. **Goals**: AI aims to create machines that can perform tasks that typically require human intelligence, while ML aims to develop algorithms that can automatically improve and make predictions from data.\n",
            "3. **Approach**: AI often involves rule-based systems, while ML relies on statistical models and algorithms to learn from data.\n",
            "4. **Complexity**: AI can involve complex reasoning and problem-solving, while ML is often focused on developing algorithms that can learn from large datasets.\n",
            "\n",
            "In summary, AI is the broader field that encompasses many subfields, including ML, which is a specific subset of AI focused on developing algorithms that enable machines to learn from data.\n"
          ]
        }
      ]
    },
    {
      "cell_type": "markdown",
      "source": [
        "> call the streaming effect method"
      ],
      "metadata": {
        "id": "I1B5J4Tr4RtB"
      }
    },
    {
      "cell_type": "code",
      "source": [
        "final = ''\n",
        "for token in llm.stream(\"what is the scientific method?\",request = 0.25, param = 600):\n",
        "        if final == '':\n",
        "            final=token\n",
        "            print(token, end=\"\", flush=True)\n",
        "        else:\n",
        "            try:\n",
        "                print(token.replace(final,''), end=\"\", flush=True)\n",
        "                final = token\n",
        "            except:\n",
        "                pass"
      ],
      "metadata": {
        "colab": {
          "base_uri": "https://localhost:8080/"
        },
        "id": "GF9qN-C_3M1o",
        "outputId": "fb024e6d-e09d-4893-986e-34268f4839ce"
      },
      "execution_count": 8,
      "outputs": [
        {
          "output_type": "stream",
          "name": "stdout",
          "text": [
            "assistant\n",
            "\n",
            "The scientific method is a systematic process used to develop and test scientific knowledge. It involves making observations, formulating hypotheses, and testing those hypotheses through experimentation and data analysis. The scientific method is a fundamental part of the scientific process and is used in many fields, including physics, biology, chemistry, and more.\n",
            "\n",
            "The steps of the scientific method are:\n",
            "\n",
            "1. **Make an observation**: Scientists start by making an observation about the world around them. This can be something they notice in their everyday lives, or it can be a phenomenon that has been observed by others.\n",
            "2. **Ask a question**: Based on their observation, scientists ask a question about what they have observed. This question should be specific and testable.\n",
            "3. **Research the topic**: Scientists do some background research on the topic to learn more about what is already known about it. This helps them to understand the context of their observation and to identify potential areas of investigation.\n",
            "4. **Formulate a hypothesis**: A hypothesis is a statement that predicts what will happen in a particular situation. It is a educated guess that is based on the scientist's understanding of the topic.\n",
            "5. **Design an experiment**: Scientists design an experiment to test their hypothesis. This involves identifying the variables that will be measured, the methods that will be used to collect data, and the procedures that will be followed to ensure the experiment is conducted fairly.\n",
            "6. **Conduct the experiment**: Scientists carry out the experiment, collecting data and making observations as they go.\n",
            "7. **Analyze the data**: Scientists analyze the data they have collected, looking for patterns and trends that support or contradict their hypothesis.\n",
            "8. **Draw a conclusion**: Based on their analysis of the data, scientists draw a conclusion about what they have found. If their hypothesis was supported, they may refine their hypothesis and continue to test it. If their hypothesis was not supported, they may need to go back to the drawing board and come up with a new hypothesis.\n",
            "9. **Communicate the results**: Scientists share their findings with others in the scientific community, usually through a paper or presentation. This helps to ensure that their results are verified and builds on the knowledge of others in the field.\n",
            "\n",
            "The scientific method is a cyclical process, meaning that it is not a one-time event, but rather a continuous process of observation, hypothesis, experimentation, and analysis. It is a way of thinking and working that is used to develop and test scientific knowledge, and it is the foundation of many scientific disciplines."
          ]
        }
      ]
    },
    {
      "cell_type": "code",
      "source": [
        "final = ''\n",
        "for token in llm.stream(\"List 5 reasons why vegan food is healthy\",request = 0.25, param = 600):\n",
        "        if final == '':\n",
        "            final=token\n",
        "            print(token, end=\"\", flush=True)\n",
        "        else:\n",
        "            try:\n",
        "                print(token.replace(final,''), end=\"\", flush=True)\n",
        "                final = token\n",
        "            except:\n",
        "                pass"
      ],
      "metadata": {
        "colab": {
          "base_uri": "https://localhost:8080/"
        },
        "id": "jjz7qWMH4pXl",
        "outputId": "f3b1ee1d-d818-4d86-a4a6-c819223483ee"
      },
      "execution_count": 10,
      "outputs": [
        {
          "output_type": "stream",
          "name": "stdout",
          "text": [
            "assistant\n",
            "\n",
            "Here are 5 reasons why vegan food is considered healthy:\n",
            "\n",
            "1. **High in Fiber**: Vegan diets tend to be high in fiber, which can help promote digestive health, prevent constipation, and support healthy blood sugar levels. Fiber-rich foods like fruits, vegetables, and whole grains can also help lower cholesterol levels and reduce the risk of heart disease.\n",
            "\n",
            "2. **Rich in Antioxidants**: Vegan diets are rich in antioxidants, which are essential for protecting the body against free radicals and oxidative stress. Antioxidants can help reduce the risk of chronic diseases like cancer, heart disease, and neurodegenerative disorders. Fruits, vegetables, and nuts are all high in antioxidants.\n",
            "\n",
            "3. **Low in Saturated Fat**: Vegan diets tend to be low in saturated fat, which can help reduce the risk of heart disease and stroke. Saturated fats can also increase cholesterol levels and contribute to weight gain. Vegan sources of fat, such as avocados and nuts, are generally healthier than animal-based sources.\n",
            "\n",
            "4. **High in Plant-Based Protein**: Vegan diets are high in plant-based protein, which can help support muscle growth and maintenance. Plant-based protein sources like beans, lentils, and tofu are also lower in saturated fat and higher in fiber than animal-based protein sources.\n",
            "\n",
            "5. **May Reduce Inflammation**: Vegan diets have been shown to reduce inflammation in the body, which can help reduce the risk of chronic diseases like arthritis, diabetes, and heart disease. Inflammation can also contribute to digestive issues, skin problems, and other health concerns. Vegan foods like turmeric, ginger, and omega-3 rich algae oil are all anti-inflammatory.\n",
            "\n",
            "It's worth noting that a well-planned vegan diet can provide all the necessary nutrients for optimal health, including protein, iron, calcium, and vitamin B12. However, it's still important to consult with a healthcare professional or registered dietitian to ensure that you're getting all the nutrients you need."
          ]
        }
      ]
    },
    {
      "cell_type": "code",
      "source": [],
      "metadata": {
        "id": "fzaKXAgG4pUn"
      },
      "execution_count": null,
      "outputs": []
    },
    {
      "cell_type": "markdown",
      "source": [
        "\n",
        "\n",
        "\n",
        "---\n",
        "\n",
        "\n",
        "---\n",
        "\n",
        "\n",
        "\n",
        "---\n",
        "\n"
      ],
      "metadata": {
        "id": "Jh0AA3084pm6"
      }
    }
  ]
}